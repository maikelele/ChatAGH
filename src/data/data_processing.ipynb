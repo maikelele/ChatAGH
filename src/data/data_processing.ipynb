{
 "cells": [
  {
   "metadata": {},
   "cell_type": "code",
   "outputs": [],
   "execution_count": null,
   "source": [
    "data_path = \"/Users/wnowogorski/PycharmProjects/CHAT_AGH/src/data/sylabusy_agh/content\"\n",
    "filtered_path = \"/Users/wnowogorski/PycharmProjects/CHAT_AGH/src/data/sylabusy_agh_filtered\"\n",
    "\n",
    "import os\n",
    "import json\n",
    "\n",
    "i = 0\n",
    "for file in os.listdir(data_path):\n",
    "    if file.endswith(\".md\"):\n",
    "        idx = file.split(\".\")[0]\n",
    "\n",
    "        with open(os.path.join(data_path, file), \"r\") as f:\n",
    "            content = f.read()\n",
    "        try:\n",
    "            with open(os.path.join(data_path, f\"{idx}_meta.json\"), \"r\") as f:\n",
    "                metadata = json.load(f)\n",
    "        except Exception as e:\n",
    "            with open(os.path.join(filtered_path, file), \"w\") as f:\n",
    "                f.write(content)\n",
    "\n",
    "        print(len(content))\n",
    "        if len(content) > 1000:\n",
    "            with open(os.path.join(filtered_path, file), \"w\") as f:\n",
    "                f.write(content)\n",
    "\n",
    "            with open(os.path.join(filtered_path, f\"{idx}_meta.json\"), \"w\") as f:\n",
    "                json.dump(metadata, f)\n",
    "\n",
    "            i += 1\n",
    "\n",
    "print(i)\n",
    "print(len(os.listdir(data_path)))"
   ],
   "id": "3bfe1073c3518420"
  },
  {
   "metadata": {},
   "cell_type": "code",
   "outputs": [],
   "execution_count": null,
   "source": "",
   "id": "b094c3c62430deb4"
  }
 ],
 "metadata": {},
 "nbformat": 5,
 "nbformat_minor": 9
}
